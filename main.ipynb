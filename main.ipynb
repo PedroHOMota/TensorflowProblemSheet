{
 "cells": [
  {
   "cell_type": "markdown",
   "metadata": {},
   "source": []
  },
  {
   "cell_type": "heading",
   "metadata": {
    "collapsed": true
   },
   "level": 1,
   "source": [
    "Importing all necessaries libs"
   ]
  },
  {
   "cell_type": "code",
   "execution_count": null,
   "metadata": {
    "collapsed": true
   },
   "outputs": [],
   "source": [
    "import csv\n",
    "import numpy as np\n",
    "import keras as kr\n",
    "from random import randint\n"
   ]
  },
  {
   "cell_type": "markdown",
   "metadata": {},
   "source": [
    "Reading the dataset"
   ]
  },
  {
   "cell_type": "code",
   "execution_count": null,
   "metadata": {},
   "outputs": [],
   "source": [
    "iris = np.array(list(csv.reader(open('iris.csv'),delimiter=';')))[1:] #Skipping header\n",
    "data=iris[:,:4].astype(np.float) #Slicing the array to get sepal length, sepal width, petal length, petal width.\n",
    "labels=iris[:,4] #Slicing the array to get labels."
   ]
  },
  {
   "cell_type": "markdown",
   "metadata": {},
   "source": []
  },
  {
   "cell_type": "code",
   "execution_count": null,
   "metadata": {},
   "outputs": [],
   "source": [
    "# Convert the output strings to ints.\n",
    "outputs_vals, outputs_ints = np.unique(labels, return_inverse=True)\n",
    "# Encode the category integers as binary categorical vairables.\n",
    "outputs_cats = kr.utils.to_categorical(outputs_ints)\n",
    "# Convert the output strings to ints.\n",
    "outputs_vals, outputs_ints = np.unique(outputs_vals, return_inverse=True)\n",
    "# Encode the category integers as binary categorical vairables.\n",
    "outputs_cats = kr.utils.to_categorical(outputs_ints)"
   ]
  },
  {
   "cell_type": "heading",
   "metadata": {},
   "level": 1,
   "source": [
    "Splitting the data into test and train"
   ]
  },
  {
   "cell_type": "code",
   "execution_count": null,
   "metadata": {},
   "outputs": [],
   "source": [
    "inds = np.random.permutation(len(data)) #Create an array containing indexes of input in a random order\n",
    "train_inds, test_inds = np.array_split(inds, 2) #Split the array of random numbers in two\n",
    "inputs_train, outputs_train = data[train_inds], outputs_cats[train_inds] #Copying the train data\n",
    "inputs_test,  outputs_test  = data[test_inds],  outputs_cats[test_inds] #Copying the test data"
   ]
  },
  {
   "cell_type": "heading",
   "metadata": {},
   "level": 1,
   "source": [
    "Creating model"
   ]
  },
  {
   "cell_type": "code",
   "execution_count": null,
   "metadata": {},
   "outputs": [],
   "source": [
    "# Create a neural network.\n",
    "model = kr.models.Sequential() #The Sequential model is a linear stack of layers.\n",
    "\n",
    "# Add an initial layer with 4 input nodes, and a hidden layer with 16 nodes. \n",
    "#  Apply the sigmoid activation function to that layer.\n",
    "# Sigmoid function converts any number to a number between 0 and 1\n",
    "model.add(kr.layers.Dense(16, input_shape=(4,)),kr.layers.Activation(\"sigmoid\"))\n",
    "\n",
    "# Add another layer, connected to the layer with 16 nodes, containing three output nodes.\n",
    "# Use the softmax activation function there.\n",
    "model.add(kr.layers.Dense(3),kr.layers.Activation(\"softmax\"))\n",
    "\n",
    "model.compile(optimizer=\"adam\",loss=\"categorical_crossentropy\",metrics=[\"accuracy\"])\n",
    "\n"
   ]
  },
  {
   "cell_type": "markdown",
   "metadata": {},
   "source": []
  },
  {
   "cell_type": "heading",
   "metadata": {},
   "level": 1,
   "source": []
  },
  {
   "cell_type": "code",
   "execution_count": null,
   "metadata": {},
   "outputs": [],
   "source": [
    "#Epoch means that it will run trought the train data 100 times to train the neural network\n",
    "#batch_size is the amount of samples will be used in parallel\n",
    "model.fit(inputs_train, outputs_train, epochs=100, batch_size=1, verbose=2) \n",
    "\n",
    "loss, accuracy = model.evaluate(inputs_test, outputs_test, verbose=2)\n",
    "\n",
    "print(\"\\n\\nLoss: %6.4f\\tAccuracy: %6.4f\" % (loss, accuracy))\n"
   ]
  },
  {
   "cell_type": "markdown",
   "metadata": {},
   "source": [
    "Testing Model"
   ]
  },
  {
   "cell_type": "code",
   "execution_count": null,
   "metadata": {},
   "outputs": [],
   "source": [
    "for i in range(3):\n",
    "    rdmSample=randint(0,len(data))\n",
    "    prediction = np.around(model.predict(np.expand_dims(inputs_test[0], axis=0))).astype(np.int)[0]\n",
    "    print(\"Actual: %s\\tEstimated: %s\" % (outputs_test[0].astype(np.int), prediction))\n",
    "    print(\"That means it's a %s\" % outputs_vals[prediction.astype(np.bool)][0])"
   ]
  },
  {
   "cell_type": "code",
   "execution_count": null,
   "metadata": {},
   "outputs": [],
   "source": [
    "intsA=np.argmax(outputs_test, axis=1) #Converting from soft max to ints\n",
    "predicted_classes = model.predict_classes(inputs_test)\n",
    "correct_indices = np.nonzero(predicted_classes == intsA)[0]\n",
    "incorrect_indices = np.nonzero(predicted_classes != intsA)[0]\n",
    "print()\n",
    "print(len(correct_indices),\" classified correctly\")\n",
    "print(len(incorrect_indices),\" classified incorrectly\")"
   ]
  },
  {
   "cell_type": "markdown",
   "metadata": {},
   "source": [
    "Based on https://github.com/emerging-technologies/keras-iris/blob/master/iris_nn.py"
   ]
  },
  {
   "cell_type": "markdown",
   "metadata": {},
   "source": []
  }
 ],
 "metadata": {
  "kernelspec": {
   "display_name": "Python 2",
   "language": "python",
   "name": "python2"
  },
  "language_info": {
   "codemirror_mode": {
    "name": "ipython",
    "version": 2
   },
   "file_extension": ".py",
   "mimetype": "text/x-python",
   "name": "python",
   "nbconvert_exporter": "python",
   "pygments_lexer": "ipython2",
   "version": "2.7.6"
  }
 },
 "nbformat": 4,
 "nbformat_minor": 0
}
