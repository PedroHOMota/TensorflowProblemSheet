{
 "cells": [
  {
   "cell_type": "markdown",
   "metadata": {},
   "source": []
  },
  {
   "cell_type": "heading",
   "metadata": {
    "collapsed": true
   },
   "level": 1,
   "source": [
    "Importing all necessaries libs"
   ]
  },
  {
   "cell_type": "code",
   "execution_count": null,
   "metadata": {
    "collapsed": true
   },
   "outputs": [],
   "source": [
    "import csv\n",
    "import numpy as np\n",
    "import keras as kr"
   ]
  },
  {
   "cell_type": "markdown",
   "metadata": {},
   "source": [
    "Reading the dataset"
   ]
  },
  {
   "cell_type": "code",
   "execution_count": null,
   "metadata": {},
   "outputs": [],
   "source": [
    "iris = np.array(list(csv.reader(open('iris.csv'),delimiter=';')))[1:] #Skipping header\n",
    "data=iris[:,:4].astype(np.float) #Slicing the array to get sepal length, sepal width, petal length, petal width.\n",
    "labels=iris[:,4] #Slicing the array to get labels."
   ]
  },
  {
   "cell_type": "heading",
   "metadata": {},
   "level": 1,
   "source": []
  },
  {
   "cell_type": "code",
   "execution_count": null,
   "metadata": {},
   "outputs": [],
   "source": [
    "# Convert the output strings to ints.\n",
    "outputs_vals, outputs_ints = np.unique(outputs, return_inverse=True)\n",
    "# Encode the category integers as binary categorical vairables.\n",
    "outputs_cats = kr.utils.to_categorical(outputs_ints)\n",
    "# Convert the output strings to ints.\n",
    "outputs_vals, outputs_ints = np.unique(outputs, return_inverse=True)\n",
    "# Encode the category integers as binary categorical vairables.\n",
    "outputs_cats = kr.utils.to_categorical(outputs_ints)"
   ]
  },
  {
   "cell_type": "heading",
   "metadata": {},
   "level": 1,
   "source": [
    "Splitting the data into test and train"
   ]
  },
  {
   "cell_type": "code",
   "execution_count": null,
   "metadata": {},
   "outputs": [],
   "source": [
    "inds = np.random.permutation(len(inputs)) #Create an array containing indexes of input in a random order\n",
    "train_inds, test_inds = np.array_split(inds, 2) #Split the array of random numbers in two\n",
    "inputs_train, outputs_train = inputs[train_inds], outputs_cats[train_inds] #Copying the train data\n",
    "inputs_test,  outputs_test  = inputs[test_inds],  outputs_cats[test_inds] #Copying the test data"
   ]
  },
  {
   "cell_type": "heading",
   "metadata": {},
   "level": 1,
   "source": [
    "Creating model"
   ]
  },
  {
   "cell_type": "code",
   "execution_count": null,
   "metadata": {},
   "outputs": [],
   "source": [
    "# Create a neural network.\n",
    "model = kr.models.Sequential() #The Sequential model is a linear stack of layers.\n",
    "\n",
    "# Add an initial layer with 4 input nodes, and a hidden layer with 16 nodes. \n",
    "#  Apply the sigmoid activation function to that layer.\n",
    "model.add(kr.layers.Dense(16, input_shape=(4,)),kr.layers.Activation(\"sigmoid\"))\n",
    "\n",
    "# Add another layer, connected to the layer with 16 nodes, containing three output nodes.\n",
    "# Use the softmax activation function there.\n",
    "model.add(kr.layers.Dense(3),kr.layers.Activation(\"softmax\"))\n",
    "\n"
   ]
  }
 ],
 "metadata": {
  "kernelspec": {
   "display_name": "Python 2",
   "language": "python",
   "name": "python2"
  },
  "language_info": {
   "codemirror_mode": {
    "name": "ipython",
    "version": 2
   },
   "file_extension": ".py",
   "mimetype": "text/x-python",
   "name": "python",
   "nbconvert_exporter": "python",
   "pygments_lexer": "ipython2",
   "version": "2.7.6"
  }
 },
 "nbformat": 4,
 "nbformat_minor": 0
}
